{
 "cells": [
  {
   "cell_type": "markdown",
   "metadata": {},
   "source": [
    "# Link Prediction In Social Network"
   ]
  },
  {
   "cell_type": "code",
   "execution_count": 1,
   "metadata": {},
   "outputs": [],
   "source": [
    "import networkx as nx\n",
    "import pandas as pd\n",
    "import math\n",
    "from sklearn.metrics import roc_auc_score, precision_recall_curve, auc\n",
    "import numpy as np\n",
    "import matplotlib.pyplot as plt\n",
    "from sklearn.linear_model import LogisticRegression"
   ]
  },
  {
   "cell_type": "code",
   "execution_count": 2,
   "metadata": {},
   "outputs": [],
   "source": [
    "def Pair_Of_Nodes(g):\n",
    "    nodes = list(g.nodes) \n",
    "    pair_of_nodes = []\n",
    "    for i in range(0, len(nodes)):\n",
    "        for j in range(i+1, len(nodes)) :\n",
    "            pair = [nodes[i], nodes[j]]\n",
    "            pair_of_nodes.append(pair)\n",
    "    return pair_of_nodes\n",
    "\n",
    "def Common_NeighboursList(g, all_Pairs):\n",
    "    commonNeighoursList = {}\n",
    "    for node1, node2 in all_Pairs :\n",
    "        commonNeighoursList[str(node1)+\" \"+str(node2)] = set(nx.common_neighbors(g,node1,node2))\n",
    "    return  commonNeighoursList \n",
    "\n",
    "def getLength(ele):\n",
    "    length = 0;\n",
    "    for e in ele:\n",
    "        length += 1\n",
    "    return length    \n",
    "\n",
    "def getDictionaryFromList(input_list) :\n",
    "    dic = {}\n",
    "    for ele in input_list :\n",
    "        dic[str(ele[0])+\" \"+str(ele[1])] = ele[2]\n",
    "    return dic  \n"
   ]
  },
  {
   "cell_type": "markdown",
   "metadata": {},
   "source": [
    "# Centrality Measures"
   ]
  },
  {
   "cell_type": "code",
   "execution_count": 3,
   "metadata": {},
   "outputs": [],
   "source": [
    "def Degree_Centrality(g):\n",
    "    degree_centrality = nx.degree_centrality(g)\n",
    "    return degree_centrality\n",
    "\n",
    "def Closeness_Centrality(g):\n",
    "    closeness_centrality = nx.closeness_centrality(g)\n",
    "    return closeness_centrality\n",
    "\n",
    "def Betweenness_Centrality(g):\n",
    "    betweenness_centrality = nx.betweenness_centrality(g)\n",
    "    return betweenness_centrality\n",
    "\n",
    "def Page_Rank(g):\n",
    "    page_rank=nx.pagerank(g)\n",
    "    return page_rank\n",
    "\n",
    "def H_Index(g):\n",
    "    h_index={}\n",
    "    for node in g.nodes():\n",
    "        max_h_index=g.degree(node) \n",
    "        result=-1\n",
    "        for i in range (0,max_h_index+1):\n",
    "            total_nodes=0\n",
    "            for neighbor in g.neighbors(node):\n",
    "                if(g.degree(neighbor)>=i):\n",
    "                    total_nodes=1+total_nodes;\n",
    "            if(total_nodes>=i):\n",
    "                result=max(result,i)\n",
    "        h_index[node]=result      \n",
    "    return h_index   \n",
    "        \n",
    "def Coreness(g,k_shell):\n",
    "    coreness={}\n",
    "    for node in g.nodes(): \n",
    "        sum=0\n",
    "        for neighbor in g.neighbors(node):\n",
    "            sum=sum + k_shell[neighbor]   \n",
    "            #sum=sum+d[node]\n",
    "        coreness[node]=sum\n",
    "    return coreness\n",
    "\n",
    "def K_Shell(g):\n",
    "    k_shell = nx.core_number(g)\n",
    "    return k_shell"
   ]
  },
  {
   "cell_type": "markdown",
   "metadata": {},
   "source": [
    "## Similarity Measures"
   ]
  },
  {
   "cell_type": "code",
   "execution_count": 4,
   "metadata": {},
   "outputs": [],
   "source": [
    "def Common_Neighbours(g, pair_of_nodes):\n",
    "    common_neighbours = []\n",
    "    for node1, node2 in pair_of_nodes:\n",
    "        length = len(list((nx.common_neighbors(g,node1,node2))))\n",
    "        temp = [node1, node2, length ]\n",
    "        common_neighbours.append(temp) \n",
    "    return common_neighbours\n",
    "    \n",
    "def Jaccard_Coefficient(g, pair_of_nodes):    \n",
    "    return nx.jaccard_coefficient(g,pair_of_nodes)\n",
    "\n",
    "\n",
    "def AdamicAdar(g, pair_of_nodes):\n",
    "    return nx.adamic_adar_index(g, pair_of_nodes)\n",
    "\n",
    "def Preferential_Attachment(g, pair_of_nodes):\n",
    "    return nx.preferential_attachment(g, pair_of_nodes)\n",
    "\n",
    "def Salton(g, pair_of_nodes, common_neighbour_dict):\n",
    "    Salton_values = []\n",
    "    for node1, node2 in pair_of_nodes:\n",
    "        val = math.sqrt(g.degree(node1)*g.degree(node2))\n",
    "        if val == 0 : val = 1\n",
    "        tempVal = len(common_neighbour_dict.get(str(node1) + \" \" + str(node2)))/val\n",
    "        temp = [node1, node2 , tempVal]\n",
    "        Salton_values.append(temp)\n",
    "    return Salton_values \n"
   ]
  },
  {
   "cell_type": "markdown",
   "metadata": {},
   "source": [
    "## Jazz Musician DataSet"
   ]
  },
  {
   "cell_type": "code",
   "execution_count": 5,
   "metadata": {},
   "outputs": [
    {
     "name": "stdout",
     "output_type": "stream",
     "text": [
      "     SRC  TGT\n",
      "0      1   10\n",
      "1      1   11\n",
      "2      1   12\n",
      "3      1   13\n",
      "4      1   14\n",
      "..   ...  ...\n",
      "165    7  128\n",
      "166    7   13\n",
      "167    7  130\n",
      "168    7  133\n",
      "169    7  137\n",
      "\n",
      "[170 rows x 2 columns]\n"
     ]
    },
    {
     "data": {
      "text/plain": [
       "2742"
      ]
     },
     "execution_count": 5,
     "metadata": {},
     "output_type": "execute_result"
    }
   ],
   "source": [
    "from sklearn.model_selection import train_test_split\n",
    "data = pd.read_csv('/Users/abhijeet/Downloads/arenas-jazz/jazzMusicians.txt',delim_whitespace=True,names=('SRC', 'TGT'))\n",
    "#names=('SRC', 'TGT')\n",
    "print(data.head(170))\n",
    "len(data)"
   ]
  },
  {
   "cell_type": "code",
   "execution_count": 6,
   "metadata": {},
   "outputs": [],
   "source": [
    "independent_variable = {}\n",
    "dependent_variable = {}\n",
    "train, test = train_test_split(data, test_size = 0.2)\n",
    "train = train.values.tolist()\n",
    "test = test.values.tolist()\n",
    "\n",
    "tra = []\n",
    "tst = []\n",
    "testSet = set()\n",
    "for dt in range(0,len(train)) :\n",
    "    node1 = train[dt][0] if train[dt][0] <= train[dt][1] else train[dt][1]  \n",
    "    node2 = train[dt][0] if train[dt][0] >= train[dt][1] else train[dt][1]\n",
    "    if node1 == node2 : continue\n",
    "    else : tra.append([node1, node2])  \n",
    "\n",
    "train = tra    \n",
    "    \n",
    "for dt in range(0,len(test)) :\n",
    "    node1 = test[dt][0] if test[dt][0] <= test[dt][1] else test[dt][1]  \n",
    "    node2 = test[dt][0] if test[dt][0] >= test[dt][1] else test[dt][1]\n",
    "    if node1 == node2 : continue\n",
    "    else : \n",
    "        tst.append([node1, node2])\n",
    "        testSet.add(str(node1)+\" \"+str(node2))\n",
    "      \n",
    "test = tst    "
   ]
  },
  {
   "cell_type": "code",
   "execution_count": 7,
   "metadata": {},
   "outputs": [
    {
     "name": "stdout",
     "output_type": "stream",
     "text": [
      "549\n",
      "549\n",
      "2193\n"
     ]
    }
   ],
   "source": [
    "print(len(testSet))\n",
    "print(len(test))\n",
    "print(len(train))\n",
    "\n"
   ]
  },
  {
   "cell_type": "code",
   "execution_count": 8,
   "metadata": {},
   "outputs": [
    {
     "data": {
      "text/plain": [
       "2742"
      ]
     },
     "execution_count": 8,
     "metadata": {},
     "output_type": "execute_result"
    }
   ],
   "source": [
    "len(data)"
   ]
  },
  {
   "cell_type": "code",
   "execution_count": 9,
   "metadata": {},
   "outputs": [
    {
     "data": {
      "text/plain": [
       "2742"
      ]
     },
     "execution_count": 9,
     "metadata": {},
     "output_type": "execute_result"
    }
   ],
   "source": [
    "len(test) + len(train)"
   ]
  },
  {
   "cell_type": "code",
   "execution_count": 10,
   "metadata": {},
   "outputs": [],
   "source": [
    "graph = nx.Graph()\n",
    "for node in range(1,194) : #194 is the total number of nodes\n",
    "    graph.add_node(node)"
   ]
  },
  {
   "cell_type": "code",
   "execution_count": 11,
   "metadata": {},
   "outputs": [
    {
     "name": "stdout",
     "output_type": "stream",
     "text": [
      "198\n",
      "2193\n"
     ]
    }
   ],
   "source": [
    "for dt in range(0,len(train)):\n",
    "    graph.add_edge(train[dt][0],train[dt][1])         \n",
    "print(len(graph.nodes))\n",
    "print(len(graph.edges))"
   ]
  },
  {
   "cell_type": "markdown",
   "metadata": {},
   "source": [
    "### Jazz Musician Graph"
   ]
  },
  {
   "cell_type": "code",
   "execution_count": 12,
   "metadata": {},
   "outputs": [
    {
     "data": {
      "image/png": "[encoded data removed]",
      "text/plain": [
       "<Figure size 432x288 with 1 Axes>"
      ]
     },
     "metadata": {},
     "output_type": "display_data"
    }
   ],
   "source": [
    "nx.draw(graph)\n",
    "plt.show()"
   ]
  },
  {
   "cell_type": "code",
   "execution_count": 13,
   "metadata": {},
   "outputs": [],
   "source": [
    "def plot_deg_dist(G):\n",
    "    my_degree = nx.degree(G)\n",
    "    all_degrees = [v for k , v in my_degree]\n",
    "    unique_degrees = list(set(all_degrees))\n",
    "    \n",
    "    count_of_degrees = []\n",
    "    for i in unique_degrees:\n",
    "        x = all_degrees.count(i)\n",
    "        count_of_degrees.append(x)\n",
    "    \n",
    "    plt.plot(unique_degrees, count_of_degrees)\n",
    "    plt.xlabel('Degrees')\n",
    "    plt.ylabel('Number of Nodes')\n",
    "    plt.title('Degree Distribution')\n",
    "    plt.show()"
   ]
  },
  {
   "cell_type": "markdown",
   "metadata": {},
   "source": [
    "### Degree Distribution Curve"
   ]
  },
  {
   "cell_type": "code",
   "execution_count": 14,
   "metadata": {},
   "outputs": [
    {
     "data": {
      "image/png": "[encoded data removed]",
      "text/plain": [
       "<Figure size 432x288 with 1 Axes>"
      ]
     },
     "metadata": {
      "needs_background": "light"
     },
     "output_type": "display_data"
    }
   ],
   "source": [
    "plot_deg_dist(graph)"
   ]
  },
  {
   "cell_type": "code",
   "execution_count": 15,
   "metadata": {},
   "outputs": [],
   "source": [
    "all_pairs_of_nodes = Pair_Of_Nodes(graph)\n",
    "common_neighbour_dictionary = Common_NeighboursList(graph, all_pairs_of_nodes)  "
   ]
  },
  {
   "cell_type": "code",
   "execution_count": 16,
   "metadata": {},
   "outputs": [
    {
     "data": {
      "text/plain": [
       "19503"
      ]
     },
     "execution_count": 16,
     "metadata": {},
     "output_type": "execute_result"
    }
   ],
   "source": [
    "len(all_pairs_of_nodes)"
   ]
  },
  {
   "cell_type": "code",
   "execution_count": 17,
   "metadata": {},
   "outputs": [
    {
     "data": {
      "text/plain": [
       "19503"
      ]
     },
     "execution_count": 17,
     "metadata": {},
     "output_type": "execute_result"
    }
   ],
   "source": [
    "len(common_neighbour_dictionary)"
   ]
  },
  {
   "cell_type": "code",
   "execution_count": 18,
   "metadata": {},
   "outputs": [],
   "source": [
    "pairs_To_Be_Examined = set()\n",
    "for node1, node2 in all_pairs_of_nodes :\n",
    "    pairs_To_Be_Examined.add((node1, node2))\n",
    "    independent_variable[str(node1)+\" \"+str(node2)] = []\n",
    "    dependent_variable[str(node1)+\" \"+str(node2)] = 0"
   ]
  },
  {
   "cell_type": "code",
   "execution_count": 19,
   "metadata": {},
   "outputs": [
    {
     "data": {
      "text/plain": [
       "19503"
      ]
     },
     "execution_count": 19,
     "metadata": {},
     "output_type": "execute_result"
    }
   ],
   "source": [
    "len(pairs_To_Be_Examined)\n"
   ]
  },
  {
   "cell_type": "code",
   "execution_count": 20,
   "metadata": {},
   "outputs": [
    {
     "data": {
      "text/plain": [
       "19503"
      ]
     },
     "execution_count": 20,
     "metadata": {},
     "output_type": "execute_result"
    }
   ],
   "source": [
    "len(independent_variable)"
   ]
  },
  {
   "cell_type": "code",
   "execution_count": 21,
   "metadata": {},
   "outputs": [],
   "source": [
    "for dt in range(0,len(train)):\n",
    "    node1 = train[dt][0] if train[dt][0] <= train[dt][1] else train[dt][1]  \n",
    "    node2 = train[dt][0] if train[dt][0] >= train[dt][1] else train[dt][1]\n",
    "    pairs_To_Be_Examined.discard((node1, node2))\n",
    "    dependent_variable[str(node1)+\" \"+str(node2)] = 1"
   ]
  },
  {
   "cell_type": "code",
   "execution_count": 22,
   "metadata": {},
   "outputs": [
    {
     "data": {
      "text/plain": [
       "17310"
      ]
     },
     "execution_count": 22,
     "metadata": {},
     "output_type": "execute_result"
    }
   ],
   "source": [
    "len(pairs_To_Be_Examined)"
   ]
  },
  {
   "cell_type": "code",
   "execution_count": 23,
   "metadata": {},
   "outputs": [],
   "source": [
    "for dt in range(0,len(test)):\n",
    "    node1 = test[dt][0] if test[dt][0] <= test[dt][1] else test[dt][1]  \n",
    "    node2 = test[dt][0] if test[dt][0] >= test[dt][1] else test[dt][1]\n",
    "    dependent_variable[str(node1)+\" \"+str(node2)] = 1       "
   ]
  },
  {
   "cell_type": "code",
   "execution_count": 24,
   "metadata": {},
   "outputs": [],
   "source": [
    "degree_Centrality = Degree_Centrality(graph)\n",
    "closeness_Centrality = Closeness_Centrality(graph)\n",
    "betweenness_Centrality = Betweenness_Centrality(graph)\n",
    "page_Rank = Page_Rank(graph)\n",
    "h_Index = H_Index(graph) \n",
    "k_Shell = K_Shell(graph)\n",
    "coreness = Coreness(graph,k_Shell)"
   ]
  },
  {
   "cell_type": "code",
   "execution_count": 25,
   "metadata": {},
   "outputs": [],
   "source": [
    "common_Neighbours = Common_Neighbours(graph, all_pairs_of_nodes)"
   ]
  },
  {
   "cell_type": "code",
   "execution_count": 26,
   "metadata": {},
   "outputs": [],
   "source": [
    "common_Neighbours = getDictionaryFromList(common_Neighbours)"
   ]
  },
  {
   "cell_type": "code",
   "execution_count": 27,
   "metadata": {},
   "outputs": [],
   "source": [
    "jaccard_Coefficient = Jaccard_Coefficient(graph, all_pairs_of_nodes)\n",
    "jaccard_Coefficient = getDictionaryFromList(jaccard_Coefficient)"
   ]
  },
  {
   "cell_type": "code",
   "execution_count": 28,
   "metadata": {},
   "outputs": [],
   "source": [
    "adamicAdar = AdamicAdar(graph, all_pairs_of_nodes) \n",
    "adamicAdar = getDictionaryFromList(adamicAdar)\n",
    "\n",
    "preferential_Attachment = Preferential_Attachment(graph, all_pairs_of_nodes) \n",
    "preferential_Attachment = getDictionaryFromList(preferential_Attachment)\n",
    "\n",
    "salton = Salton(graph, all_pairs_of_nodes, common_neighbour_dictionary)\n",
    "salton = getDictionaryFromList(salton) "
   ]
  },
  {
   "cell_type": "code",
   "execution_count": 29,
   "metadata": {},
   "outputs": [],
   "source": [
    "centrality_measures = [degree_Centrality, closeness_Centrality, betweenness_Centrality, page_Rank, h_Index, k_Shell , coreness]\n",
    "similarity_measures = [common_Neighbours, jaccard_Coefficient, adamicAdar, preferential_Attachment, salton]"
   ]
  },
  {
   "cell_type": "code",
   "execution_count": 30,
   "metadata": {},
   "outputs": [
    {
     "data": {
      "text/plain": [
       "198"
      ]
     },
     "execution_count": 30,
     "metadata": {},
     "output_type": "execute_result"
    }
   ],
   "source": [
    "len(centrality_measures[2])"
   ]
  },
  {
   "cell_type": "code",
   "execution_count": 32,
   "metadata": {},
   "outputs": [],
   "source": [
    "centrality_measures_name = [\"degree_Centrality\", \"closeness_Centrality\", \"betweenness_Centrality\", \"page_Rank\", \"h_Index\", \"k_Shell\", \"coreness\"]\n",
    "similarity_measures_name = [\"common_Neighbours\", \"jaccard_Coefficient\", \"adamicAdar\", \"preferential_Attachment\", \"salton\"]"
   ]
  },
  {
   "cell_type": "code",
   "execution_count": 33,
   "metadata": {},
   "outputs": [
    {
     "data": {
      "text/plain": [
       "['degree_Centrality',\n",
       " 'closeness_Centrality',\n",
       " 'betweenness_Centrality',\n",
       " 'page_Rank',\n",
       " 'h_Index',\n",
       " 'k_Shell',\n",
       " 'coreness']"
      ]
     },
     "execution_count": 33,
     "metadata": {},
     "output_type": "execute_result"
    }
   ],
   "source": [
    "centrality_measures_name"
   ]
  },
  {
   "cell_type": "code",
   "execution_count": 34,
   "metadata": {},
   "outputs": [],
   "source": [
    "for node1, node2 in all_pairs_of_nodes :\n",
    "    sim_arr = []\n",
    "    for j in range(len(similarity_measures_name)):\n",
    "        sim_arr.append(similarity_measures[j][str(node1)+\" \"+str(node2)]) \n",
    "    independent_variable[str(node1)+\" \"+str(node2)] = sim_arr"
   ]
  },
  {
   "cell_type": "code",
   "execution_count": 35,
   "metadata": {},
   "outputs": [
    {
     "data": {
      "text/plain": [
       "17310"
      ]
     },
     "execution_count": 35,
     "metadata": {},
     "output_type": "execute_result"
    }
   ],
   "source": [
    "len(pairs_To_Be_Examined)"
   ]
  },
  {
   "cell_type": "markdown",
   "metadata": {},
   "source": []
  },
  {
   "cell_type": "code",
   "execution_count": 36,
   "metadata": {},
   "outputs": [],
   "source": [
    "final_list = []\n",
    "results = []\n",
    "for i in range(len(centrality_measures_name)) :\n",
    "        for j in range(len(similarity_measures_name)) :\n",
    "            nodes_value = []\n",
    "            maxCentrality = 0\n",
    "            maxSimilarity = 0\n",
    "            yActual = []\n",
    "            yPredicted = []\n",
    "            add = 0\n",
    "            for node1, node2 in pairs_To_Be_Examined :\n",
    "                if centrality_measures[i][node1] > maxCentrality : maxCentrality = centrality_measures[i][node1]\n",
    "                if centrality_measures[i][node2] > maxCentrality : maxCentrality = centrality_measures[i][node2]\n",
    "                if similarity_measures[j][str(node1)+\" \"+str(node2)] > maxSimilarity : maxSimilarity = similarity_measures[j][str(node1)+\" \"+str(node2)]\n",
    "                value = centrality_measures[i][node1]*centrality_measures[i][node2]*similarity_measures[j][str(node1)+\" \"+str(node2)]*similarity_measures[j][str(node1)+\" \"+str(node2)]\n",
    "                if maxCentrality == 0 : maxCentrality = 1\n",
    "                if maxSimilarity == 0 : maxSimilarity = 1\n",
    "                divisor = maxCentrality*maxCentrality*maxSimilarity*maxSimilarity\n",
    "                value /= divisor\n",
    "                yPredicted.append(value)\n",
    "                nodePair = str(node1)+\" \"+str(node2)\n",
    "                if nodePair in testSet :\n",
    "                    yActual.append(int(1))\n",
    "                else : \n",
    "                    yActual.append(int(0))\n",
    "                nodes_value.append([value, node1, node2])\n",
    "            auc_roc = roc_auc_score(yActual, yPredicted)\n",
    "            pre, re, thres = precision_recall_curve(yActual,yPredicted)\n",
    "            auc_prc = auc(re, pre)\n",
    "            accuracyParameters = []\n",
    "            accuracyParameters.append(auc_roc)\n",
    "            accuracyParameters.append(auc_prc)\n",
    "            results.append([centrality_measures_name[i],similarity_measures_name[j]] + accuracyParameters)"
   ]
  },
  {
   "cell_type": "code",
   "execution_count": 37,
   "metadata": {},
   "outputs": [
    {
     "name": "stdout",
     "output_type": "stream",
     "text": [
      "                centrality               similarity   auc-roc   auc-prc\n",
      "0        degree_Centrality        common_Neighbours  0.927665  0.389023\n",
      "1        degree_Centrality      jaccard_Coefficient  0.949337  0.534342\n",
      "2        degree_Centrality               adamicAdar  0.935895  0.416186\n",
      "3        degree_Centrality  preferential_Attachment  0.764522  0.126856\n",
      "4        degree_Centrality                   salton  0.950638  0.531995\n",
      "5     closeness_Centrality        common_Neighbours  0.942924  0.439017\n",
      "6     closeness_Centrality      jaccard_Coefficient  0.957185  0.539949\n",
      "7     closeness_Centrality               adamicAdar  0.952555  0.474147\n",
      "8     closeness_Centrality  preferential_Attachment  0.763386  0.122081\n",
      "9     closeness_Centrality                   salton  0.962134  0.575666\n",
      "10  betweenness_Centrality        common_Neighbours  0.898441  0.265455\n",
      "11  betweenness_Centrality      jaccard_Coefficient  0.918319  0.324786\n",
      "12  betweenness_Centrality               adamicAdar  0.904442  0.280192\n",
      "13  betweenness_Centrality  preferential_Attachment  0.747473  0.103189\n",
      "14  betweenness_Centrality                   salton  0.910610  0.291390\n",
      "15               page_Rank        common_Neighbours  0.934213  0.402448\n",
      "16               page_Rank      jaccard_Coefficient  0.955434  0.552040\n",
      "17               page_Rank               adamicAdar  0.942880  0.431298\n",
      "18               page_Rank  preferential_Attachment  0.763930  0.118461\n",
      "19               page_Rank                   salton  0.958621  0.560634\n",
      "20                 h_Index        common_Neighbours  0.930496  0.424182\n",
      "21                 h_Index      jaccard_Coefficient  0.949134  0.544209\n",
      "22                 h_Index               adamicAdar  0.939173  0.452376\n",
      "23                 h_Index  preferential_Attachment  0.764271  0.132247\n",
      "24                 h_Index                   salton  0.952451  0.566494\n",
      "25                 k_Shell        common_Neighbours  0.934954  0.449232\n",
      "26                 k_Shell      jaccard_Coefficient  0.950619  0.540616\n",
      "27                 k_Shell               adamicAdar  0.943851  0.481175\n",
      "28                 k_Shell  preferential_Attachment  0.764604  0.131615\n",
      "29                 k_Shell                   salton  0.954930  0.570914\n",
      "30                coreness        common_Neighbours  0.923564  0.388716\n",
      "31                coreness      jaccard_Coefficient  0.944119  0.519544\n",
      "32                coreness               adamicAdar  0.931630  0.414135\n",
      "33                coreness  preferential_Attachment  0.764625  0.134614\n",
      "34                coreness                   salton  0.944703  0.516432\n"
     ]
    }
   ],
   "source": [
    "stats = pd.DataFrame(results,columns = [\"centrality\",\"similarity\",\"auc-roc\",\"auc-prc\"])\n",
    "print(stats)\n",
    "stats.to_csv('Musician-Result.csv') "
   ]
  },
  {
   "cell_type": "code",
   "execution_count": 38,
   "metadata": {},
   "outputs": [],
   "source": [
    "for node1, node2 in all_pairs_of_nodes :\n",
    "    features=[]\n",
    "    for i in range(len(centrality_measures_name)) :\n",
    "        for j in range(len(similarity_measures_name)) :\n",
    "            value = centrality_measures[i][node1]*centrality_measures[i][node2]*similarity_measures[j][str(node1)+\" \"+str(node2)]*similarity_measures[j][str(node1)+\" \"+str(node2)]\n",
    "            features.append(value)\n",
    "    independent_variable[str(node1)+\" \"+str(node2)] = features"
   ]
  },
  {
   "cell_type": "code",
   "execution_count": 39,
   "metadata": {},
   "outputs": [
    {
     "data": {
      "text/plain": [
       "19503"
      ]
     },
     "execution_count": 39,
     "metadata": {},
     "output_type": "execute_result"
    }
   ],
   "source": [
    "len(independent_variable)"
   ]
  },
  {
   "cell_type": "code",
   "execution_count": 40,
   "metadata": {},
   "outputs": [
    {
     "data": {
      "text/plain": [
       "35"
      ]
     },
     "execution_count": 40,
     "metadata": {},
     "output_type": "execute_result"
    }
   ],
   "source": [
    "len(independent_variable[str(2)+\" \"+str(5)])"
   ]
  },
  {
   "cell_type": "code",
   "execution_count": 41,
   "metadata": {},
   "outputs": [],
   "source": [
    "final_x = []\n",
    "final_y = []\n",
    "for node1, node2 in all_pairs_of_nodes :\n",
    "    final_x.append(independent_variable[str(node1)+\" \"+str(node2)])\n",
    "    final_y.append(dependent_variable[str(node1)+\" \"+str(node2)]) \n"
   ]
  },
  {
   "cell_type": "markdown",
   "metadata": {},
   "source": [
    "## Dolphin DataSet"
   ]
  },
  {
   "cell_type": "code",
   "execution_count": 45,
   "metadata": {},
   "outputs": [
    {
     "name": "stdout",
     "output_type": "stream",
     "text": [
      "   SRC  TGT\n",
      "0    9    4\n",
      "1   10    6\n",
      "2   10    7\n",
      "3   11    1\n",
      "4   11    3\n"
     ]
    },
    {
     "data": {
      "text/plain": [
       "159"
      ]
     },
     "execution_count": 45,
     "metadata": {},
     "output_type": "execute_result"
    }
   ],
   "source": [
    "data1 = pd.read_csv('/Users/abhijeet/Downloads/dolphins 3/dolphins.txt',delim_whitespace=True,names=('SRC', 'TGT'))\n",
    "print(data1.head())\n",
    "len(data1)"
   ]
  },
  {
   "cell_type": "code",
   "execution_count": null,
   "metadata": {},
   "outputs": [],
   "source": []
  },
  {
   "cell_type": "code",
   "execution_count": 46,
   "metadata": {},
   "outputs": [],
   "source": [
    "independent_variable = {}\n",
    "dependent_variable = {}\n",
    "train, test = train_test_split(data1, test_size = 0.2)\n",
    "train = train.values.tolist()\n",
    "test = test.values.tolist()\n",
    "\n",
    "tra = []\n",
    "tst = []\n",
    "testSet = set()\n",
    "for dt in range(0,len(train)) :\n",
    "    node1 = train[dt][0] if train[dt][0] <= train[dt][1] else train[dt][1]  \n",
    "    node2 = train[dt][0] if train[dt][0] >= train[dt][1] else train[dt][1]\n",
    "    if node1 == node2 : continue\n",
    "    else : tra.append([node1, node2])  \n",
    "\n",
    "train = tra    \n",
    "    \n",
    "for dt in range(0,len(test)) :\n",
    "    node1 = test[dt][0] if test[dt][0] <= test[dt][1] else test[dt][1]  \n",
    "    node2 = test[dt][0] if test[dt][0] >= test[dt][1] else test[dt][1]\n",
    "    if node1 == node2 : continue\n",
    "    else : \n",
    "        tst.append([node1, node2])\n",
    "        testSet.add(str(node1)+\" \"+str(node2))\n",
    "      \n",
    "test = tst  "
   ]
  },
  {
   "cell_type": "code",
   "execution_count": 47,
   "metadata": {},
   "outputs": [
    {
     "data": {
      "text/plain": [
       "127"
      ]
     },
     "execution_count": 47,
     "metadata": {},
     "output_type": "execute_result"
    }
   ],
   "source": [
    "len(train)"
   ]
  },
  {
   "cell_type": "code",
   "execution_count": 48,
   "metadata": {},
   "outputs": [],
   "source": [
    "graph1 = nx.Graph()\n",
    "for node in range(1,62) : \n",
    "    graph1.add_node(node)"
   ]
  },
  {
   "cell_type": "code",
   "execution_count": 49,
   "metadata": {},
   "outputs": [
    {
     "name": "stdout",
     "output_type": "stream",
     "text": [
      "62\n",
      "127\n"
     ]
    }
   ],
   "source": [
    "for dt in range(0,len(train)):\n",
    "    graph1.add_edge(train[dt][0],train[dt][1])         \n",
    "print(len(graph1.nodes))\n",
    "print(len(graph1.edges))"
   ]
  },
  {
   "cell_type": "markdown",
   "metadata": {},
   "source": [
    "## Dolphin DataSet Graph"
   ]
  },
  {
   "cell_type": "code",
   "execution_count": 50,
   "metadata": {},
   "outputs": [
    {
     "data": {
      "image/png": "[encoded data removed]",
      "text/plain": [
       "<Figure size 432x288 with 1 Axes>"
      ]
     },
     "metadata": {},
     "output_type": "display_data"
    }
   ],
   "source": [
    "nx.draw(graph1)\n",
    "plt.show()"
   ]
  },
  {
   "cell_type": "markdown",
   "metadata": {},
   "source": [
    "### Degreee Distribution Curve"
   ]
  },
  {
   "cell_type": "code",
   "execution_count": 51,
   "metadata": {},
   "outputs": [
    {
     "data": {
      "image/png": "[encoded data removed]",
      "text/plain": [
       "<Figure size 432x288 with 1 Axes>"
      ]
     },
     "metadata": {
      "needs_background": "light"
     },
     "output_type": "display_data"
    }
   ],
   "source": [
    "plot_deg_dist(graph1)"
   ]
  },
  {
   "cell_type": "code",
   "execution_count": 52,
   "metadata": {},
   "outputs": [],
   "source": [
    "all_pairs_of_nodes = Pair_Of_Nodes(graph1)\n",
    "common_neighbour_dictionary = Common_NeighboursList(graph1, all_pairs_of_nodes)  "
   ]
  },
  {
   "cell_type": "code",
   "execution_count": 53,
   "metadata": {},
   "outputs": [
    {
     "data": {
      "text/plain": [
       "1891"
      ]
     },
     "execution_count": 53,
     "metadata": {},
     "output_type": "execute_result"
    }
   ],
   "source": [
    "len(all_pairs_of_nodes)"
   ]
  },
  {
   "cell_type": "code",
   "execution_count": 54,
   "metadata": {},
   "outputs": [],
   "source": [
    "pairs_To_Be_Examined = set()\n",
    "for node1, node2 in all_pairs_of_nodes :\n",
    "    pairs_To_Be_Examined.add((node1, node2))\n",
    "    independent_variable[str(node1)+\" \"+str(node2)] = []\n",
    "    dependent_variable[str(node1)+\" \"+str(node2)] = 0"
   ]
  },
  {
   "cell_type": "code",
   "execution_count": 55,
   "metadata": {},
   "outputs": [
    {
     "data": {
      "text/plain": [
       "1891"
      ]
     },
     "execution_count": 55,
     "metadata": {},
     "output_type": "execute_result"
    }
   ],
   "source": [
    "len(pairs_To_Be_Examined)"
   ]
  },
  {
   "cell_type": "code",
   "execution_count": 56,
   "metadata": {},
   "outputs": [],
   "source": [
    "for dt in range(0,len(train)):\n",
    "    node1 = train[dt][0] if train[dt][0] <= train[dt][1] else train[dt][1]  \n",
    "    node2 = train[dt][0] if train[dt][0] >= train[dt][1] else train[dt][1]\n",
    "    pairs_To_Be_Examined.discard((node1, node2))\n",
    "    dependent_variable[str(node1)+\" \"+str(node2)] = 1"
   ]
  },
  {
   "cell_type": "code",
   "execution_count": 57,
   "metadata": {},
   "outputs": [
    {
     "data": {
      "text/plain": [
       "1764"
      ]
     },
     "execution_count": 57,
     "metadata": {},
     "output_type": "execute_result"
    }
   ],
   "source": [
    "len(pairs_To_Be_Examined)"
   ]
  },
  {
   "cell_type": "code",
   "execution_count": 58,
   "metadata": {},
   "outputs": [],
   "source": [
    "for dt in range(0,len(test)):\n",
    "    node1 = test[dt][0] if test[dt][0] <= test[dt][1] else test[dt][1]  \n",
    "    node2 = test[dt][0] if test[dt][0] >= test[dt][1] else test[dt][1]\n",
    "    dependent_variable[str(node1)+\" \"+str(node2)] = 1       "
   ]
  },
  {
   "cell_type": "code",
   "execution_count": 59,
   "metadata": {},
   "outputs": [],
   "source": [
    "degree_Centrality = Degree_Centrality(graph1)\n",
    "closeness_Centrality = Closeness_Centrality(graph1)\n",
    "betweenness_Centrality = Betweenness_Centrality(graph1)\n",
    "page_Rank = Page_Rank(graph1)\n",
    "h_Index = H_Index(graph1)\n",
    "k_Shell = K_Shell(graph1)\n",
    "coreness = Coreness(graph1,k_Shell)"
   ]
  },
  {
   "cell_type": "code",
   "execution_count": 60,
   "metadata": {},
   "outputs": [],
   "source": [
    "common_Neighbours = Common_Neighbours(graph1, all_pairs_of_nodes)"
   ]
  },
  {
   "cell_type": "code",
   "execution_count": 61,
   "metadata": {},
   "outputs": [],
   "source": [
    "common_Neighbours = getDictionaryFromList(common_Neighbours)"
   ]
  },
  {
   "cell_type": "code",
   "execution_count": 62,
   "metadata": {},
   "outputs": [],
   "source": [
    "jaccard_Coefficient = Jaccard_Coefficient(graph1, all_pairs_of_nodes)\n",
    "jaccard_Coefficient = getDictionaryFromList(jaccard_Coefficient)"
   ]
  },
  {
   "cell_type": "code",
   "execution_count": 63,
   "metadata": {},
   "outputs": [],
   "source": [
    "adamicAdar = AdamicAdar(graph1, all_pairs_of_nodes) \n",
    "adamicAdar = getDictionaryFromList(adamicAdar)\n",
    "\n",
    "preferential_Attachment = Preferential_Attachment(graph1, all_pairs_of_nodes) \n",
    "preferential_Attachment = getDictionaryFromList(preferential_Attachment)\n",
    "\n",
    "salton = Salton(graph1, all_pairs_of_nodes, common_neighbour_dictionary)\n",
    "salton = getDictionaryFromList(salton) "
   ]
  },
  {
   "cell_type": "code",
   "execution_count": 64,
   "metadata": {},
   "outputs": [],
   "source": [
    "centrality_measures = [degree_Centrality, closeness_Centrality, betweenness_Centrality, page_Rank, h_Index, k_Shell , coreness]\n",
    "similarity_measures = [common_Neighbours, jaccard_Coefficient, adamicAdar, preferential_Attachment, salton]"
   ]
  },
  {
   "cell_type": "code",
   "execution_count": 65,
   "metadata": {},
   "outputs": [],
   "source": [
    "for node1, node2 in all_pairs_of_nodes :\n",
    "    sim_arr = []\n",
    "    for j in range(len(similarity_measures_name)):\n",
    "        sim_arr.append(similarity_measures[j][str(node1)+\" \"+str(node2)]) \n",
    "    independent_variable[str(node1)+\" \"+str(node2)] = sim_arr"
   ]
  },
  {
   "cell_type": "code",
   "execution_count": 66,
   "metadata": {},
   "outputs": [],
   "source": [
    "final_list = []\n",
    "results = []\n",
    "for i in range(len(centrality_measures_name)) :\n",
    "    alpha = 0.1\n",
    "    for alpha in range(1) :\n",
    "        beta = 1 - alpha\n",
    "        for j in range(len(similarity_measures_name)) :\n",
    "            nodes_value = []\n",
    "            maxCentrality = 0\n",
    "            maxSimilarity = 0\n",
    "            yActual = []\n",
    "            yPredicted = []\n",
    "            add = 0\n",
    "            for node1, node2 in pairs_To_Be_Examined :\n",
    "                if centrality_measures[i][node1] > maxCentrality : maxCentrality = centrality_measures[i][node1]\n",
    "                if centrality_measures[i][node2] > maxCentrality : maxCentrality = centrality_measures[i][node2]\n",
    "                if similarity_measures[j][str(node1)+\" \"+str(node2)] > maxSimilarity : maxSimilarity = similarity_measures[j][str(node1)+\" \"+str(node2)]\n",
    "                value = centrality_measures[i][node1]*centrality_measures[i][node2]*similarity_measures[j][str(node1)+\" \"+str(node2)]*similarity_measures[j][str(node1)+\" \"+str(node2)]\n",
    "                if maxCentrality == 0 : maxCentrality = 1\n",
    "                if maxSimilarity == 0 : maxSimilarity = 1\n",
    "                divisor = maxCentrality*maxCentrality*maxSimilarity*maxSimilarity\n",
    "                value /= divisor\n",
    "                yPredicted.append(value)\n",
    "                nodePair = str(node1)+\" \"+str(node2)\n",
    "                if nodePair in testSet :\n",
    "                    yActual.append(int(1))\n",
    "                else : \n",
    "                    yActual.append(int(0))\n",
    "                nodes_value.append([value, node1, node2])\n",
    "            auc_roc = roc_auc_score(yActual, yPredicted)\n",
    "            pre, re, thres = precision_recall_curve(yActual,yPredicted)\n",
    "            auc_prc = auc(re, pre)\n",
    "            accuracyParameters = []\n",
    "            accuracyParameters.append(auc_roc)\n",
    "            accuracyParameters.append(auc_prc)\n",
    "            results.append([centrality_measures_name[i],similarity_measures_name[j]] + accuracyParameters)"
   ]
  },
  {
   "cell_type": "code",
   "execution_count": 67,
   "metadata": {},
   "outputs": [],
   "source": [
    "for node1, node2 in all_pairs_of_nodes :\n",
    "    features=[]\n",
    "    for i in range(len(centrality_measures_name)) :\n",
    "        for j in range(len(similarity_measures_name)) :\n",
    "            value = centrality_measures[i][node1]*centrality_measures[i][node2]*similarity_measures[j][str(node1)+\" \"+str(node2)]*similarity_measures[j][str(node1)+\" \"+str(node2)]\n",
    "            features.append(value)\n",
    "    independent_variable[str(node1)+\" \"+str(node2)] = features"
   ]
  },
  {
   "cell_type": "code",
   "execution_count": 68,
   "metadata": {},
   "outputs": [
    {
     "data": {
      "text/plain": [
       "1891"
      ]
     },
     "execution_count": 68,
     "metadata": {},
     "output_type": "execute_result"
    }
   ],
   "source": [
    "len(independent_variable)"
   ]
  },
  {
   "cell_type": "code",
   "execution_count": 71,
   "metadata": {},
   "outputs": [
    {
     "name": "stdout",
     "output_type": "stream",
     "text": [
      "                centrality               similarity   auc-roc   auc-prc\n",
      "0        degree_Centrality        common_Neighbours  0.790073  0.138837\n",
      "1        degree_Centrality      jaccard_Coefficient  0.797082  0.172124\n",
      "2        degree_Centrality               adamicAdar  0.797037  0.128379\n",
      "3        degree_Centrality  preferential_Attachment  0.738705  0.053158\n",
      "4        degree_Centrality                   salton  0.797570  0.182897\n",
      "5     closeness_Centrality        common_Neighbours  0.780637  0.135586\n",
      "6     closeness_Centrality      jaccard_Coefficient  0.783388  0.092037\n",
      "7     closeness_Centrality               adamicAdar  0.795865  0.111918\n",
      "8     closeness_Centrality  preferential_Attachment  0.731542  0.053290\n",
      "9     closeness_Centrality                   salton  0.779094  0.084022\n",
      "10  betweenness_Centrality        common_Neighbours  0.785652  0.114845\n",
      "11  betweenness_Centrality      jaccard_Coefficient  0.786500  0.122540\n",
      "12  betweenness_Centrality               adamicAdar  0.787691  0.105461\n",
      "13  betweenness_Centrality  preferential_Attachment  0.761791  0.046856\n",
      "14  betweenness_Centrality                   salton  0.785869  0.105610\n",
      "15               page_Rank        common_Neighbours  0.793979  0.157209\n",
      "16               page_Rank      jaccard_Coefficient  0.798418  0.179595\n",
      "17               page_Rank               adamicAdar  0.799681  0.132827\n",
      "18               page_Rank  preferential_Attachment  0.745002  0.051323\n",
      "19               page_Rank                   salton  0.794899  0.195754\n",
      "20                 h_Index        common_Neighbours  0.790533  0.157638\n",
      "21                 h_Index      jaccard_Coefficient  0.792653  0.134767\n",
      "22                 h_Index               adamicAdar  0.798688  0.124634\n",
      "23                 h_Index  preferential_Attachment  0.736766  0.055118\n",
      "24                 h_Index                   salton  0.789514  0.136079\n",
      "25                 k_Shell        common_Neighbours  0.788115  0.181105\n",
      "26                 k_Shell      jaccard_Coefficient  0.788061  0.120923\n",
      "27                 k_Shell               adamicAdar  0.797813  0.142335\n",
      "28                 k_Shell  preferential_Attachment  0.733590  0.056483\n",
      "29                 k_Shell                   salton  0.784272  0.125075\n",
      "30                coreness        common_Neighbours  0.786699  0.136318\n",
      "31                coreness      jaccard_Coefficient  0.780420  0.168827\n",
      "32                coreness               adamicAdar  0.793023  0.121269\n",
      "33                coreness  preferential_Attachment  0.731380  0.057023\n",
      "34                coreness                   salton  0.774556  0.173914\n"
     ]
    }
   ],
   "source": [
    "stats = pd.DataFrame(results,columns = [\"centrality\",\"similarity\",\"auc-roc\",\"auc-prc\"])\n",
    "print(stats)\n",
    "stats.to_csv('dolphins-result.csv') "
   ]
  },
  {
   "cell_type": "code",
   "execution_count": null,
   "metadata": {},
   "outputs": [],
   "source": []
  }
 ],
 "metadata": {
  "kernelspec": {
   "display_name": "Python 3",
   "language": "python",
   "name": "python3"
  },
  "language_info": {
   "codemirror_mode": {
    "name": "ipython",
    "version": 3
   },
   "file_extension": ".py",
   "mimetype": "text/x-python",
   "name": "python",
   "nbconvert_exporter": "python",
   "pygments_lexer": "ipython3",
   "version": "3.7.6"
  }
 },
 "nbformat": 4,
 "nbformat_minor": 4
}
